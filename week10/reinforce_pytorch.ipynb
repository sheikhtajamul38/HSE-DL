{
  "cells": [
    {
      "cell_type": "markdown",
      "metadata": {
        "id": "5PwGwoiaXgr1"
      },
      "source": [
        "# REINFORCE in PyTorch\n",
        "\n",
        "Just like we did before for Q-learning, this time we'll design a PyTorch network to learn `CartPole-v0` via policy gradient (REINFORCE).\n",
        "\n",
        "Most of the code in this notebook is taken from approximate Q-learning, so you'll find it more or less familiar and even simpler."
      ]
    },
    {
      "cell_type": "code",
      "execution_count": 1,
      "metadata": {
        "id": "Ux6yP1mqXgr6",
        "colab": {
          "base_uri": "https://localhost:8080/"
        },
        "outputId": "0063f2a2-19cb-448c-eb8e-d8501c4afefb"
      },
      "outputs": [
        {
          "output_type": "stream",
          "name": "stdout",
          "text": [
            "Selecting previously unselected package libfontenc1:amd64.\n",
            "(Reading database ... 120903 files and directories currently installed.)\n",
            "Preparing to unpack .../0-libfontenc1_1%3a1.1.4-1build3_amd64.deb ...\n",
            "Unpacking libfontenc1:amd64 (1:1.1.4-1build3) ...\n",
            "Selecting previously unselected package libxfont2:amd64.\n",
            "Preparing to unpack .../1-libxfont2_1%3a2.0.5-1build1_amd64.deb ...\n",
            "Unpacking libxfont2:amd64 (1:2.0.5-1build1) ...\n",
            "Selecting previously unselected package libxkbfile1:amd64.\n",
            "Preparing to unpack .../2-libxkbfile1_1%3a1.1.0-1build3_amd64.deb ...\n",
            "Unpacking libxkbfile1:amd64 (1:1.1.0-1build3) ...\n",
            "Selecting previously unselected package x11-xkb-utils.\n",
            "Preparing to unpack .../3-x11-xkb-utils_7.7+5build4_amd64.deb ...\n",
            "Unpacking x11-xkb-utils (7.7+5build4) ...\n",
            "Selecting previously unselected package xfonts-encodings.\n",
            "Preparing to unpack .../4-xfonts-encodings_1%3a1.0.5-0ubuntu2_all.deb ...\n",
            "Unpacking xfonts-encodings (1:1.0.5-0ubuntu2) ...\n",
            "Selecting previously unselected package xfonts-utils.\n",
            "Preparing to unpack .../5-xfonts-utils_1%3a7.7+6build2_amd64.deb ...\n",
            "Unpacking xfonts-utils (1:7.7+6build2) ...\n",
            "Selecting previously unselected package xfonts-base.\n",
            "Preparing to unpack .../6-xfonts-base_1%3a1.0.5_all.deb ...\n",
            "Unpacking xfonts-base (1:1.0.5) ...\n",
            "Selecting previously unselected package xserver-common.\n",
            "Preparing to unpack .../7-xserver-common_2%3a21.1.4-2ubuntu1.7~22.04.5_all.deb ...\n",
            "Unpacking xserver-common (2:21.1.4-2ubuntu1.7~22.04.5) ...\n",
            "Selecting previously unselected package xvfb.\n",
            "Preparing to unpack .../8-xvfb_2%3a21.1.4-2ubuntu1.7~22.04.5_amd64.deb ...\n",
            "Unpacking xvfb (2:21.1.4-2ubuntu1.7~22.04.5) ...\n",
            "Setting up libfontenc1:amd64 (1:1.1.4-1build3) ...\n",
            "Setting up xfonts-encodings (1:1.0.5-0ubuntu2) ...\n",
            "Setting up libxkbfile1:amd64 (1:1.1.0-1build3) ...\n",
            "Setting up libxfont2:amd64 (1:2.0.5-1build1) ...\n",
            "Setting up x11-xkb-utils (7.7+5build4) ...\n",
            "Setting up xfonts-utils (1:7.7+6build2) ...\n",
            "Setting up xfonts-base (1:1.0.5) ...\n",
            "Setting up xserver-common (2:21.1.4-2ubuntu1.7~22.04.5) ...\n",
            "Setting up xvfb (2:21.1.4-2ubuntu1.7~22.04.5) ...\n",
            "Processing triggers for man-db (2.10.2-1) ...\n",
            "Processing triggers for fontconfig (2.13.1-4.2ubuntu5) ...\n",
            "Processing triggers for libc-bin (2.35-0ubuntu3.4) ...\n",
            "/sbin/ldconfig.real: /usr/local/lib/libtbbbind_2_5.so.3 is not a symbolic link\n",
            "\n",
            "/sbin/ldconfig.real: /usr/local/lib/libtbbbind_2_0.so.3 is not a symbolic link\n",
            "\n",
            "/sbin/ldconfig.real: /usr/local/lib/libtbb.so.12 is not a symbolic link\n",
            "\n",
            "/sbin/ldconfig.real: /usr/local/lib/libtbbmalloc.so.2 is not a symbolic link\n",
            "\n",
            "/sbin/ldconfig.real: /usr/local/lib/libtbbmalloc_proxy.so.2 is not a symbolic link\n",
            "\n",
            "/sbin/ldconfig.real: /usr/local/lib/libtbbbind.so.3 is not a symbolic link\n",
            "\n",
            "\u001b[2K     \u001b[90m━━━━━━━━━━━━━━━━━━━━━━━━━━━━━━━━━━━━━━━━\u001b[0m \u001b[32m953.9/953.9 kB\u001b[0m \u001b[31m6.6 MB/s\u001b[0m eta \u001b[36m0:00:00\u001b[0m\n",
            "\u001b[?25hRequirement already satisfied: moviepy in /usr/local/lib/python3.10/dist-packages (1.0.3)\n",
            "Requirement already satisfied: decorator<5.0,>=4.0.2 in /usr/local/lib/python3.10/dist-packages (from moviepy) (4.4.2)\n",
            "Requirement already satisfied: tqdm<5.0,>=4.11.2 in /usr/local/lib/python3.10/dist-packages (from moviepy) (4.66.1)\n",
            "Requirement already satisfied: requests<3.0,>=2.8.1 in /usr/local/lib/python3.10/dist-packages (from moviepy) (2.31.0)\n",
            "Requirement already satisfied: proglog<=1.0.0 in /usr/local/lib/python3.10/dist-packages (from moviepy) (0.1.10)\n",
            "Requirement already satisfied: numpy>=1.17.3 in /usr/local/lib/python3.10/dist-packages (from moviepy) (1.23.5)\n",
            "Requirement already satisfied: imageio<3.0,>=2.5 in /usr/local/lib/python3.10/dist-packages (from moviepy) (2.31.6)\n",
            "Requirement already satisfied: imageio-ffmpeg>=0.2.0 in /usr/local/lib/python3.10/dist-packages (from moviepy) (0.4.9)\n",
            "Requirement already satisfied: pillow<10.1.0,>=8.3.2 in /usr/local/lib/python3.10/dist-packages (from imageio<3.0,>=2.5->moviepy) (9.4.0)\n",
            "Requirement already satisfied: setuptools in /usr/local/lib/python3.10/dist-packages (from imageio-ffmpeg>=0.2.0->moviepy) (67.7.2)\n",
            "Requirement already satisfied: charset-normalizer<4,>=2 in /usr/local/lib/python3.10/dist-packages (from requests<3.0,>=2.8.1->moviepy) (3.3.2)\n",
            "Requirement already satisfied: idna<4,>=2.5 in /usr/local/lib/python3.10/dist-packages (from requests<3.0,>=2.8.1->moviepy) (3.6)\n",
            "Requirement already satisfied: urllib3<3,>=1.21.1 in /usr/local/lib/python3.10/dist-packages (from requests<3.0,>=2.8.1->moviepy) (2.0.7)\n",
            "Requirement already satisfied: certifi>=2017.4.17 in /usr/local/lib/python3.10/dist-packages (from requests<3.0,>=2.8.1->moviepy) (2023.11.17)\n",
            "Reading package lists... Done\n",
            "Building dependency tree... Done\n",
            "Reading state information... Done\n",
            "ffmpeg is already the newest version (7:4.4.2-0ubuntu0.22.04.1).\n",
            "0 upgraded, 0 newly installed, 0 to remove and 24 not upgraded.\n",
            "Requirement already satisfied: imageio-ffmpeg in /usr/local/lib/python3.10/dist-packages (0.4.9)\n",
            "Requirement already satisfied: setuptools in /usr/local/lib/python3.10/dist-packages (from imageio-ffmpeg) (67.7.2)\n",
            "Starting virtual X frame buffer: Xvfb.\n"
          ]
        }
      ],
      "source": [
        "import sys, os\n",
        "if 'google.colab' in sys.modules and not os.path.exists('.setup_complete'):\n",
        "    !wget -q https://raw.githubusercontent.com/yandexdataschool/Practical_RL/master/setup_colab.sh -O- | bash\n",
        "    !pip install -q gymnasium\n",
        "    !pip install moviepy\n",
        "    !apt install ffmpeg\n",
        "    !pip install imageio-ffmpeg\n",
        "    !touch .setup_complete\n",
        "\n",
        "# This code creates a virtual display to draw game images on.\n",
        "# It will have no effect if your machine has a monitor.\n",
        "if type(os.environ.get(\"DISPLAY\")) is not str or len(os.environ.get(\"DISPLAY\")) == 0:\n",
        "    !bash ../xvfb start\n",
        "    os.environ['DISPLAY'] = ':1'"
      ]
    },
    {
      "cell_type": "code",
      "execution_count": 2,
      "metadata": {
        "id": "JyJIPcxoXgr8"
      },
      "outputs": [],
      "source": [
        "import gymnasium as gym\n",
        "import numpy as np\n",
        "import matplotlib.pyplot as plt\n",
        "%matplotlib inline"
      ]
    },
    {
      "cell_type": "code",
      "execution_count": null,
      "metadata": {
        "id": "xdPQw2BdXgr9"
      },
      "outputs": [],
      "source": [
        "# also you need to install ffmpeg if not installed\n",
        "# for MacOS: ! brew install ffmpeg"
      ]
    },
    {
      "cell_type": "markdown",
      "metadata": {
        "id": "O19FTOofXgr-"
      },
      "source": [
        "A caveat: with some versions of `pyglet`, the following cell may crash with `NameError: name 'base' is not defined`. The corresponding bug report is [here](https://github.com/pyglet/pyglet/issues/134). If you see this error, try restarting the kernel."
      ]
    },
    {
      "cell_type": "code",
      "execution_count": 3,
      "metadata": {
        "id": "Ut5CDgGmXgr_",
        "colab": {
          "base_uri": "https://localhost:8080/",
          "height": 413
        },
        "outputId": "9de8f00b-37b1-4170-d370-bf02f8897ff2"
      },
      "outputs": [
        {
          "output_type": "execute_result",
          "data": {
            "text/plain": [
              "<matplotlib.image.AxesImage at 0x7e505fbface0>"
            ]
          },
          "metadata": {},
          "execution_count": 3
        },
        {
          "output_type": "display_data",
          "data": {
            "text/plain": [
              "<Figure size 640x480 with 1 Axes>"
            ],
            "image/png": "[encoded data removed]"
          },
          "metadata": {}
        }
      ],
      "source": [
        "env = gym.make(\"CartPole-v1\", render_mode=\"rgb_array\")\n",
        "\n",
        "# gym compatibility: unwrap TimeLimit\n",
        "if hasattr(env, '_max_episode_steps'):\n",
        "    env = env.env\n",
        "\n",
        "env.reset()\n",
        "n_actions = env.action_space.n\n",
        "state_dim = env.observation_space.shape\n",
        "\n",
        "plt.imshow(env.render())"
      ]
    },
    {
      "cell_type": "markdown",
      "metadata": {
        "id": "cGh7Ed6FXgsA"
      },
      "source": [
        "# Building the network for REINFORCE"
      ]
    },
    {
      "cell_type": "markdown",
      "metadata": {
        "id": "CKACCIVbXgsA"
      },
      "source": [
        "For REINFORCE algorithm, we'll need a model that predicts action probabilities given states.\n",
        "\n",
        "For numerical stability, please __do not include the softmax layer into your network architecture__.\n",
        "We'll use softmax or log-softmax where appropriate."
      ]
    },
    {
      "cell_type": "code",
      "execution_count": 4,
      "metadata": {
        "id": "qwTiJreXXgsB"
      },
      "outputs": [],
      "source": [
        "import torch\n",
        "import torch.nn as nn\n",
        "import torch.nn.functional as F"
      ]
    },
    {
      "cell_type": "code",
      "execution_count": 5,
      "metadata": {
        "id": "fQ1JLCvTXgsB"
      },
      "outputs": [],
      "source": [
        "# Build a simple neural network that predicts policy logits.\n",
        "# Keep it simple: CartPole isn't worth deep architectures.\n",
        "model = nn.Sequential(\n",
        "    nn.Linear(state_dim[0], 128), # state_dim[0] is the size of the state vector\n",
        "    nn.ReLU(),\n",
        "    nn.Linear(128, n_actions)     # n_actions is the number of possible actions\n",
        ")"
      ]
    },
    {
      "cell_type": "markdown",
      "metadata": {
        "id": "8Tl_x0CDXgsB"
      },
      "source": [
        "#### Predict function"
      ]
    },
    {
      "cell_type": "markdown",
      "metadata": {
        "id": "4__4qQjwXgsC"
      },
      "source": [
        "Note: output value of this function is not a torch tensor, it's a numpy array.\n",
        "So, here gradient calculation is not needed.\n",
        "<br>\n",
        "Use [no_grad](https://pytorch.org/docs/stable/autograd.html#torch.autograd.no_grad)\n",
        "to suppress gradient calculation.\n",
        "<br>\n",
        "Also, `.detach()` (or legacy `.data` property) can be used instead, but there is a difference:\n",
        "<br>\n",
        "With `.detach()` computational graph is built but then disconnected from a particular tensor,\n",
        "so `.detach()` should be used if that graph is needed for backprop via some other (not detached) tensor;\n",
        "<br>\n",
        "In contrast, no graph is built by any operation in `no_grad()` context, thus it's preferable here."
      ]
    },
    {
      "cell_type": "code",
      "execution_count": 6,
      "metadata": {
        "id": "Kr_AK-x2XgsC"
      },
      "outputs": [],
      "source": [
        "def predict_probs(states):\n",
        "    \"\"\"\n",
        "    Predict action probabilities given states.\n",
        "    :param states: numpy array of shape [batch, state_shape]\n",
        "    :returns: numpy array of shape [batch, n_actions]\n",
        "    \"\"\"\n",
        "    states = torch.tensor(states, dtype=torch.float32) # convert states to tensor\n",
        "    logits = model(states)                              # compute logits\n",
        "    probabilities = F.softmax(logits, dim=-1)          # apply softmax to logits\n",
        "    return probabilities.detach().numpy()"
      ]
    },
    {
      "cell_type": "code",
      "execution_count": 7,
      "metadata": {
        "id": "LCy4vr2oXgsC"
      },
      "outputs": [],
      "source": [
        "test_states = np.array([env.reset()[0] for _ in range(5)])\n",
        "test_probas = predict_probs(test_states)\n",
        "assert isinstance(test_probas, np.ndarray), \\\n",
        "    \"you must return np array and not %s\" % type(test_probas)\n",
        "assert tuple(test_probas.shape) == (test_states.shape[0], env.action_space.n), \\\n",
        "    \"wrong output shape: %s\" % np.shape(test_probas)\n",
        "assert np.allclose(np.sum(test_probas, axis=1), 1), \"probabilities do not sum to 1\""
      ]
    },
    {
      "cell_type": "markdown",
      "metadata": {
        "id": "szLuy4aeXgsC"
      },
      "source": [
        "### Play the game\n",
        "\n",
        "We can now use our newly built agent to play the game."
      ]
    },
    {
      "cell_type": "code",
      "execution_count": 8,
      "metadata": {
        "id": "Mur5LPxkXgsC"
      },
      "outputs": [],
      "source": [
        "def generate_session(env, t_max=1000):\n",
        "    \"\"\"\n",
        "    Play a full session with REINFORCE agent.\n",
        "    Returns sequences of states, actions, and rewards.\n",
        "    \"\"\"\n",
        "    # arrays to record session\n",
        "    states, actions, rewards = [], [], []\n",
        "\n",
        "    s = env.reset()[0]\n",
        "\n",
        "    for t in range(t_max):\n",
        "        action_probs = predict_probs(np.array([s]))[0]  # action probabilities array aka pi(a|s)\n",
        "        a = np.random.choice(n_actions, p=action_probs) # Sample action with given probabilities\n",
        "\n",
        "        new_s, r, terminated, truncated, info = env.step(a)\n",
        "\n",
        "        # record session history to train later\n",
        "        states.append(s)\n",
        "        actions.append(a)\n",
        "        rewards.append(r)\n",
        "\n",
        "        s = new_s\n",
        "        if terminated or truncated:\n",
        "            break\n",
        "\n",
        "    return states, actions, rewards"
      ]
    },
    {
      "cell_type": "code",
      "execution_count": 9,
      "metadata": {
        "id": "Sj41MIBCXgsD"
      },
      "outputs": [],
      "source": [
        "# test it\n",
        "states, actions, rewards = generate_session(env)"
      ]
    },
    {
      "cell_type": "markdown",
      "metadata": {
        "id": "HQrzJnJ9XgsD"
      },
      "source": [
        "### Computing cumulative rewards\n",
        "\n",
        "$$\n",
        "\\begin{align*}\n",
        "G_t &= r_t + \\gamma r_{t + 1} + \\gamma^2 r_{t + 2} + \\ldots \\\\\n",
        "&= \\sum_{i = t}^T \\gamma^{i - t} r_i \\\\\n",
        "&= r_t + \\gamma * G_{t + 1}\n",
        "\\end{align*}\n",
        "$$"
      ]
    },
    {
      "cell_type": "code",
      "execution_count": 10,
      "metadata": {
        "id": "i7TZgW39XgsD"
      },
      "outputs": [],
      "source": [
        "def get_cumulative_rewards(rewards, gamma=0.99):\n",
        "    \"\"\"\n",
        "    Compute cumulative rewards.\n",
        "    \"\"\"\n",
        "    cumulative_rewards = np.zeros_like(rewards, dtype=float)\n",
        "    G_t = 0\n",
        "    for t in reversed(range(len(rewards))):\n",
        "        G_t = rewards[t] + gamma * G_t\n",
        "        cumulative_rewards[t] = G_t\n",
        "    return cumulative_rewards"
      ]
    },
    {
      "cell_type": "code",
      "execution_count": 11,
      "metadata": {
        "id": "9Aq7JecZXgsD",
        "colab": {
          "base_uri": "https://localhost:8080/"
        },
        "outputId": "d894d6b7-5d31-4e13-8654-3f127ceef424"
      },
      "outputs": [
        {
          "output_type": "stream",
          "name": "stdout",
          "text": [
            "looks good!\n"
          ]
        }
      ],
      "source": [
        "get_cumulative_rewards(rewards)\n",
        "assert len(get_cumulative_rewards(list(range(100)))) == 100\n",
        "assert np.allclose(\n",
        "    get_cumulative_rewards([0, 0, 1, 0, 0, 1, 0], gamma=0.9),\n",
        "    [1.40049, 1.5561, 1.729, 0.81, 0.9, 1.0, 0.0])\n",
        "assert np.allclose(\n",
        "    get_cumulative_rewards([0, 0, 1, -2, 3, -4, 0], gamma=0.5),\n",
        "    [0.0625, 0.125, 0.25, -1.5, 1.0, -4.0, 0.0])\n",
        "assert np.allclose(\n",
        "    get_cumulative_rewards([0, 0, 1, 2, 3, 4, 0], gamma=0),\n",
        "    [0, 0, 1, 2, 3, 4, 0])\n",
        "print(\"looks good!\")"
      ]
    },
    {
      "cell_type": "markdown",
      "metadata": {
        "id": "u0kynoAuXgsD"
      },
      "source": [
        "#### Loss function and updates\n",
        "\n",
        "We now need to define objective and update over policy gradient.\n",
        "\n",
        "Our objective function is\n",
        "\n",
        "$$ J \\approx  { 1 \\over N } \\sum_{s_i,a_i} G(s_i,a_i) $$\n",
        "\n",
        "REINFORCE defines a way to compute the gradient of the expected reward with respect to policy parameters. The formula is as follows:\n",
        "\n",
        "$$ \\nabla_\\theta \\hat J(\\theta) \\approx { 1 \\over N } \\sum_{s_i, a_i} \\nabla_\\theta \\log \\pi_\\theta (a_i \\mid s_i) \\cdot G_t(s_i, a_i) $$\n",
        "\n",
        "We can abuse PyTorch's capabilities for automatic differentiation by defining our objective function as follows:\n",
        "\n",
        "$$ \\hat J(\\theta) \\approx { 1 \\over N } \\sum_{s_i, a_i} \\log \\pi_\\theta (a_i \\mid s_i) \\cdot G_t(s_i, a_i) $$\n",
        "\n",
        "When you compute the gradient of that function with respect to network weights $\\theta$, it will become exactly the policy gradient."
      ]
    },
    {
      "cell_type": "code",
      "execution_count": 12,
      "metadata": {
        "id": "nhH4ziF4XgsE"
      },
      "outputs": [],
      "source": [
        "# Your code: define optimizers\n",
        "optimizer = torch.optim.Adam(model.parameters(), 1e-3)\n",
        "\n",
        "\n",
        "def train_on_session(states, actions, rewards, gamma=0.99, entropy_coef=1e-2):\n",
        "    \"\"\"\n",
        "    Updates agent's weights by following the policy gradient.\n",
        "    \"\"\"\n",
        "\n",
        "    # Cast everything into torch tensors\n",
        "    states = torch.tensor(states, dtype=torch.float32)\n",
        "    actions = torch.tensor(actions, dtype=torch.int64)\n",
        "    cumulative_returns = np.array(get_cumulative_rewards(rewards, gamma))\n",
        "    cumulative_returns = torch.tensor(cumulative_returns, dtype=torch.float32)\n",
        "\n",
        "\n",
        "    logits = model(states)\n",
        "    log_probs = nn.functional.log_softmax(logits, -1)\n",
        "\n",
        "\n",
        "    log_probs_for_actions = log_probs[range(len(actions)), actions]\n",
        "\n",
        "\n",
        "    probs = nn.functional.softmax(logits, -1)\n",
        "    entropy = -(probs * log_probs).sum(-1).mean()\n",
        "\n",
        "    # Compute policy gradient loss\n",
        "    loss = -torch.mean(log_probs_for_actions * cumulative_returns) - entropy_coef * entropy\n",
        "\n",
        "    optimizer.zero_grad()\n",
        "    loss.backward()\n",
        "    optimizer.step()\n",
        "\n",
        "    return np.sum(rewards)\n",
        "\n"
      ]
    },
    {
      "cell_type": "markdown",
      "metadata": {
        "id": "sDLrUVRcXgsE"
      },
      "source": [
        "### The actual training"
      ]
    },
    {
      "cell_type": "code",
      "execution_count": 13,
      "metadata": {
        "id": "9YtWqavpXgsE",
        "colab": {
          "base_uri": "https://localhost:8080/"
        },
        "outputId": "5fecac0f-22fb-4616-d2e0-60c4d6bf2525"
      },
      "outputs": [
        {
          "output_type": "stream",
          "name": "stderr",
          "text": [
            "<ipython-input-12-b432f1293631>:11: UserWarning: Creating a tensor from a list of numpy.ndarrays is extremely slow. Please consider converting the list to a single numpy.ndarray with numpy.array() before converting to a tensor. (Triggered internally at ../torch/csrc/utils/tensor_new.cpp:261.)\n",
            "  states = torch.tensor(states, dtype=torch.float32)\n"
          ]
        },
        {
          "output_type": "stream",
          "name": "stdout",
          "text": [
            "mean reward: 32.710\n",
            "mean reward: 42.190\n",
            "mean reward: 65.280\n",
            "mean reward: 101.350\n",
            "mean reward: 141.640\n",
            "mean reward: 147.180\n",
            "mean reward: 175.230\n",
            "mean reward: 236.180\n",
            "mean reward: 328.370\n",
            "mean reward: 179.140\n",
            "mean reward: 172.900\n",
            "mean reward: 160.810\n",
            "mean reward: 151.990\n",
            "mean reward: 185.230\n",
            "mean reward: 256.130\n",
            "mean reward: 288.270\n",
            "mean reward: 198.260\n",
            "mean reward: 115.480\n",
            "mean reward: 110.970\n",
            "mean reward: 102.710\n",
            "mean reward: 300.930\n",
            "mean reward: 581.250\n",
            "You Win!\n"
          ]
        }
      ],
      "source": [
        "for i in range(100):\n",
        "    rewards = [train_on_session(*generate_session(env)) for _ in range(100)]  # generate new sessions\n",
        "\n",
        "    print(\"mean reward: %.3f\" % (np.mean(rewards)))\n",
        "\n",
        "    if np.mean(rewards) > 500:\n",
        "        print(\"You Win!\")  # but you can train even further\n",
        "        break"
      ]
    },
    {
      "cell_type": "markdown",
      "metadata": {
        "id": "8NVqWX9YXgsE"
      },
      "source": [
        "### Results & video"
      ]
    },
    {
      "cell_type": "code",
      "execution_count": 14,
      "metadata": {
        "id": "OLrNMbWDXgsE",
        "colab": {
          "base_uri": "https://localhost:8080/"
        },
        "outputId": "69a69964-f5b4-413b-da4a-143574471bcd"
      },
      "outputs": [
        {
          "output_type": "stream",
          "name": "stdout",
          "text": [
            "Moviepy - Building video /content/videos/rl-video-episode-0.mp4.\n",
            "Moviepy - Writing video /content/videos/rl-video-episode-0.mp4\n",
            "\n"
          ]
        },
        {
          "output_type": "stream",
          "name": "stderr",
          "text": []
        },
        {
          "output_type": "stream",
          "name": "stdout",
          "text": [
            "Moviepy - Done !\n",
            "Moviepy - video ready /content/videos/rl-video-episode-0.mp4\n",
            "Moviepy - Building video /content/videos/rl-video-episode-1.mp4.\n",
            "Moviepy - Writing video /content/videos/rl-video-episode-1.mp4\n",
            "\n"
          ]
        },
        {
          "output_type": "stream",
          "name": "stderr",
          "text": []
        },
        {
          "output_type": "stream",
          "name": "stdout",
          "text": [
            "Moviepy - Done !\n",
            "Moviepy - video ready /content/videos/rl-video-episode-1.mp4\n",
            "Moviepy - Building video /content/videos/rl-video-episode-8.mp4.\n",
            "Moviepy - Writing video /content/videos/rl-video-episode-8.mp4\n",
            "\n"
          ]
        },
        {
          "output_type": "stream",
          "name": "stderr",
          "text": []
        },
        {
          "output_type": "stream",
          "name": "stdout",
          "text": [
            "Moviepy - Done !\n",
            "Moviepy - video ready /content/videos/rl-video-episode-8.mp4\n"
          ]
        }
      ],
      "source": [
        "# Record sessions\n",
        "\n",
        "from gymnasium.wrappers import RecordVideo\n",
        "\n",
        "with gym.make(\"CartPole-v1\", render_mode=\"rgb_array\") as env, RecordVideo(\n",
        "    env=env, video_folder=\"./videos\"\n",
        ") as env_monitor:\n",
        "    sessions = [generate_session(env_monitor) for _ in range(10)]\n"
      ]
    },
    {
      "cell_type": "code",
      "execution_count": 15,
      "metadata": {
        "id": "VnTya80WXgsE",
        "colab": {
          "base_uri": "https://localhost:8080/",
          "height": 501
        },
        "outputId": "f1ffe31d-6b77-4b37-883d-a526d3666cdf"
      },
      "outputs": [
        {
          "output_type": "execute_result",
          "data": {
            "text/plain": [
              "<IPython.core.display.HTML object>"
            ],
            "text/html": [
              "\n",
              "<video width=\"640\" height=\"480\" controls>\n",
              "  <source src=\"data:video/mp4;base64,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\" type=\"video/mp4\">\n",
              "</video>\n"
            ]
          },
          "metadata": {},
          "execution_count": 15
        }
      ],
      "source": [
        "# Show video. This may not work in some setups. If it doesn't\n",
        "# work for you, you can download the videos and view them locally.\n",
        "\n",
        "from pathlib import Path\n",
        "from base64 import b64encode\n",
        "from IPython.display import HTML\n",
        "\n",
        "video_paths = sorted([s for s in Path('videos').iterdir() if s.suffix == '.mp4'])\n",
        "video_path = video_paths[-1]  # You can also try other indices\n",
        "\n",
        "if 'google.colab' in sys.modules:\n",
        "    # https://stackoverflow.com/a/57378660/1214547\n",
        "    with video_path.open('rb') as fp:\n",
        "        mp4 = fp.read()\n",
        "    data_url = 'data:video/mp4;base64,' + b64encode(mp4).decode()\n",
        "else:\n",
        "    data_url = str(video_path)\n",
        "\n",
        "HTML(\"\"\"\n",
        "<video width=\"640\" height=\"480\" controls>\n",
        "  <source src=\"{}\" type=\"video/mp4\">\n",
        "</video>\n",
        "\"\"\".format(data_url))"
      ]
    },
    {
      "cell_type": "code",
      "source": [],
      "metadata": {
        "id": "wMIc-whsZjOU"
      },
      "execution_count": null,
      "outputs": []
    }
  ],
  "metadata": {
    "kernelspec": {
      "display_name": "Python 3 (ipykernel)",
      "language": "python",
      "name": "python3"
    },
    "language_info": {
      "codemirror_mode": {
        "name": "ipython",
        "version": 3
      },
      "file_extension": ".py",
      "mimetype": "text/x-python",
      "name": "python",
      "nbconvert_exporter": "python",
      "pygments_lexer": "ipython3",
      "version": "3.9.16"
    },
    "colab": {
      "provenance": []
    }
  },
  "nbformat": 4,
  "nbformat_minor": 0
}